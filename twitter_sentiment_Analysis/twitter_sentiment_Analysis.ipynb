{
 "cells": [
  {
   "cell_type": "code",
   "execution_count": 2,
   "metadata": {
    "collapsed": true
   },
   "outputs": [],
   "source": [
    "import tweepy\n",
    "from textblob import TextBlob"
   ]
  },
  {
   "cell_type": "code",
   "execution_count": 3,
   "metadata": {
    "collapsed": true
   },
   "outputs": [],
   "source": [
    "# Step 1 - Authenticate, configure using the created credentials for your app from apps.twitter.com\n",
    "\n",
    "consumer_key= 'CONSUMER_KEY_HERE'\n",
    "consumer_secret= 'CONSUMER_SECRET_HERE'\n",
    "\n",
    "access_token='ACCESS_TOKEN_HERE'\n",
    "access_token_secret='ACCESS_TOKEN_SECRET_HERE'\n",
    "\n",
    "auth = tweepy.OAuthHandler(consumer_key, consumer_secret)\n",
    "auth.set_access_token(access_token, access_token_secret)"
   ]
  },
  {
   "cell_type": "code",
   "execution_count": 4,
   "metadata": {
    "collapsed": true
   },
   "outputs": [],
   "source": [
    "# Step 2 - Create API object with tweepy \n",
    "api = tweepy.API(auth)"
   ]
  },
  {
   "cell_type": "code",
   "execution_count": 9,
   "metadata": {},
   "outputs": [],
   "source": [
    "#Step 3 - Retrieve Tweets\n",
    "public_tweets = api.search('climate')\n",
    "\n",
    "for tweet in public_tweets:\n",
    "#     print(tweet.text)\n",
    "    \n",
    "    #Step 4 Perform Sentiment Analysis on Tweets\n",
    "    analysis = TextBlob(tweet.text)\n",
    "#     print(analysis.sentiment)\n",
    "#     print(\"\")"
   ]
  },
  {
   "cell_type": "markdown",
   "metadata": {},
   "source": [
    "#Challenge\n",
    "\n",
    "#Now Instead of printing out each tweet, save each Tweet to a CSV file\n",
    "#and label each one as either 'positive' or 'negative', depending on the sentiment \n",
    "#Our sentiment polarity threshold is 0.6\n"
   ]
  },
  {
   "cell_type": "code",
   "execution_count": 6,
   "metadata": {
    "collapsed": true
   },
   "outputs": [],
   "source": [
    "import csv\n",
    "import sys\n",
    "import re"
   ]
  },
  {
   "cell_type": "code",
   "execution_count": 7,
   "metadata": {
    "collapsed": true
   },
   "outputs": [],
   "source": [
    "with open('tweets.csv', 'w') as  f:\n",
    "    csvWriter = csv.DictWriter(f,fieldnames=['Tweet', 'Sentiment'])\n",
    "    csvWriter.writeheader()\n",
    "\n",
    "    for tweet in public_tweets:\n",
    "        text = tweet.text\n",
    "        #Cleaning tweet\n",
    "        cleanText=' '.join(re.sub(\"(@[A-Za-z0-9]+)|([^0-9A-Za-z \\t])|(\\w+:\\/\\/\\S+)\",\" \",text).split())\n",
    "#         print cleanText\n",
    "        analysis = TextBlob(cleanText)\n",
    "        sentiment = analysis.sentiment.polarity\n",
    "        if sentiment >= 0.6:\n",
    "#             print text,polarity\n",
    "            polarity = 'Positive'\n",
    "        else:\n",
    "            polarity = 'Negative'\n",
    "#             print text,polarity\n",
    "#             print(cleanText, polarity)\n",
    "\n",
    "        csvWriter.writerow({'Tweet':cleanText, 'Sentiment':polarity})"
   ]
  },
  {
   "cell_type": "code",
   "execution_count": null,
   "metadata": {
    "collapsed": true
   },
   "outputs": [],
   "source": []
  }
 ],
 "metadata": {
  "kernelspec": {
   "display_name": "Python 2",
   "language": "python",
   "name": "python2"
  },
  "language_info": {
   "codemirror_mode": {
    "name": "ipython",
    "version": 2
   },
   "file_extension": ".py",
   "mimetype": "text/x-python",
   "name": "python",
   "nbconvert_exporter": "python",
   "pygments_lexer": "ipython2",
   "version": "2.7.13"
  }
 },
 "nbformat": 4,
 "nbformat_minor": 2
}
